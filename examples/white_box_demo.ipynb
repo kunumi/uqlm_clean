{
 "cells": [
  {
   "cell_type": "markdown",
   "metadata": {},
   "source": [
    "# 🎯 White-Box Uncertainty Quantification\n",
    "\n",
    "<div style=\"background-color: rgba(200, 200, 200, 0.1); padding: 20px; border-radius: 8px; margin-bottom: 20px; border: 1px solid rgba(127, 127, 127, 0.2); max-width: 97.5%; overflow-wrap: break-word;\">\n",
    "  <p style=\"font-size: 16px; line-height: 1.6\">\n",
    "     White-box Uncertainty Quantification (UQ) methods leverage token probabilities to estimate uncertainty. They are significantly faster and cheaper than black-box methods, but require access to the LLM's internal probabilities, meaning they are not necessarily compatible with all LLMs/APIs. This demo provides an illustration of how to use state-of-the-art white-box UQ methods with <code>uqlm</code>. The following scorers are available:\n",
    "  </p>\n",
    "      \n",
    "*   Minimum token probability ([Manakul et al., 2023](https://arxiv.org/abs/2303.08896))\n",
    "*   Length-Normalized Joint Token Probability ([Malinin & Gales, 2021](https://arxiv.org/pdf/2002.07650))\n",
    "</div>\n",
    "\n",
    "## 📊 What You'll Do in This Demo\n",
    "\n",
    "<div style=\"display: flex; margin-bottom: 15px; align-items: center\">\n",
    "  <div style=\"background-color: #34a853; color: white; border-radius: 50%; width: 30px; height: 30px; display: flex; justify-content: center; align-items: center; margin-right: 15px; flex-shrink: 0\"><strong>1</strong></div>\n",
    "  <div>\n",
    "    <p style=\"margin: 0; font-weight: bold\"><a href=#section1>Set up LLM and prompts.</a></p>\n",
    "    <p style=\"margin: 0; color: rgba(95, 99, 104, 0.8)\">Set up LLM instance and load example data prompts.</p>\n",
    "  </div>\n",
    "</div>\n",
    "\n",
    "<div style=\"display: flex; margin-bottom: 15px; align-items: center\">\n",
    "  <div style=\"background-color: #34a853; color: white; border-radius: 50%; width: 30px; height: 30px; display: flex; justify-content: center; align-items: center; margin-right: 15px; flex-shrink: 0\"><strong>2</strong></div>\n",
    "  <div>\n",
    "    <p style=\"margin: 0; font-weight: bold\"><a href=#section2>Generate LLM Responses and Confidence Scores</a></p>\n",
    "    <p style=\"margin: 0; color: rgba(95, 99, 104, 0.8)\">Generate and score LLM responses to the example questions using the <code>WhiteBoxUQ()</code> class.</p>\n",
    "  </div>\n",
    "</div>\n",
    "\n",
    "<div style=\"display: flex; margin-bottom: 25px; align-items: center\">\n",
    "  <div style=\"background-color: #34a853; color: white; border-radius: 50%; width: 30px; height: 30px; display: flex; justify-content: center; align-items: center; margin-right: 15px; flex-shrink: 0\"><strong>3</strong></div>\n",
    "  <div>\n",
    "    <p style=\"margin: 0; font-weight: bold\"><a href=#section3>Evaluate Hallucination Detection Performance</a></p>\n",
    "    <p style=\"margin: 0; color: rgba(95, 99, 104, 0.8)\">Visualize model accuracy at different thresholds of the various white-box UQ confidence scores. Compute precision, recall, and F1-score of hallucination detection.</p>\n",
    "  </div>\n",
    "</div>\n",
    "\n",
    "## ⚖️ Advantages & Limitations\n",
    "\n",
    "<div style=\"display: flex; gap: 20px\">\n",
    "  <div style=\"flex: 1; background-color: rgba(0, 200, 0, 0.1); padding: 15px; border-radius: 8px; border: 1px solid rgba(0, 200, 0, 0.2)\">\n",
    "    <h3 style=\"color: #2e8b57; margin-top: 0\">Pros</h3>\n",
    "    <ul style=\"margin-bottom: 0\">\n",
    "      <li><strong>Minimal Latency Impact:</strong> Token probabilities are already returned by the LLM.</li>\n",
    "      <li><strong>No Added Cost:</strong> Doesn't require additional LLM calls.</li>\n",
    "    </ul>\n",
    "  </div>\n",
    "  \n",
    "  <div style=\"flex: 1; background-color: rgba(200, 0, 0, 0.1); padding: 15px; border-radius: 8px; border: 1px solid rgba(200, 0, 0, 0.2)\">\n",
    "    <h3 style=\"color: #b22222; margin-top: 0\">Cons</h3>\n",
    "    <ul style=\"margin-bottom: 0\">\n",
    "      <li><strong>Limited Compatibility:</strong> Requires access to token probabilities, not available for all LLMs/APIs.</li>\n",
    "    </ul>\n",
    "  </div>\n",
    "</div>"
   ]
  },
  {
   "cell_type": "code",
   "execution_count": 1,
   "metadata": {
    "tags": []
   },
   "outputs": [
    {
     "name": "stderr",
     "output_type": "stream",
     "text": [
      "/opt/anaconda3/envs/uqlm/lib/python3.12/site-packages/tqdm/auto.py:21: TqdmWarning: IProgress not found. Please update jupyter and ipywidgets. See https://ipywidgets.readthedocs.io/en/stable/user_install.html\n",
      "  from .autonotebook import tqdm as notebook_tqdm\n"
     ]
    }
   ],
   "source": [
    "import os\n",
    "\n",
    "import numpy as np\n",
    "from sklearn.metrics import precision_score, recall_score, f1_score\n",
    "\n",
    "from uqlm import WhiteBoxUQ\n",
    "from uqlm.utils import load_example_dataset, math_postprocessor, plot_model_accuracies, Tuner"
   ]
  },
  {
   "cell_type": "markdown",
   "metadata": {},
   "source": [
    "<a id='section1'></a>\n",
    "## 1. Set up LLM and Prompts"
   ]
  },
  {
   "cell_type": "markdown",
   "metadata": {},
   "source": [
    "In this demo, we will illustrate this approach using a set of math questions from the [GSM8K benchmark](https://github.com/openai/grade-school-math). To implement with your use case, simply **replace the example prompts with your data**.  "
   ]
  },
  {
   "cell_type": "code",
   "execution_count": 2,
   "metadata": {
    "tags": []
   },
   "outputs": [
    {
     "name": "stdout",
     "output_type": "stream",
     "text": [
      "Loading dataset - gsm8k...\n",
      "Processing dataset...\n",
      "Dataset ready!\n"
     ]
    },
    {
     "data": {
      "application/vnd.microsoft.datawrangler.viewer.v0+json": {
       "columns": [
        {
         "name": "index",
         "rawType": "int64",
         "type": "integer"
        },
        {
         "name": "question",
         "rawType": "object",
         "type": "string"
        },
        {
         "name": "answer",
         "rawType": "object",
         "type": "string"
        }
       ],
       "ref": "bce64e21-bae9-48dc-93fb-3c3ad120e91e",
       "rows": [
        [
         "0",
         "Natalia sold clips to 48 of her friends in April, and then she sold half as many clips in May. How many clips did Natalia sell altogether in April and May?",
         "72"
        ],
        [
         "1",
         "Weng earns $12 an hour for babysitting. Yesterday, she just did 50 minutes of babysitting. How much did she earn?",
         "10"
        ],
        [
         "2",
         "Betty is saving money for a new wallet which costs $100. Betty has only half of the money she needs. Her parents decided to give her $15 for that purpose, and her grandparents twice as much as her parents. How much more money does Betty need to buy the wallet?",
         "5"
        ],
        [
         "3",
         "Julie is reading a 120-page book. Yesterday, she was able to read 12 pages and today, she read twice as many pages as yesterday. If she wants to read half of the remaining pages tomorrow, how many pages should she read?",
         "42"
        ],
        [
         "4",
         "James writes a 3-page letter to 2 different friends twice a week.  How many pages does he write a year?",
         "624"
        ]
       ],
       "shape": {
        "columns": 2,
        "rows": 5
       }
      },
      "text/html": [
       "<div>\n",
       "<style scoped>\n",
       "    .dataframe tbody tr th:only-of-type {\n",
       "        vertical-align: middle;\n",
       "    }\n",
       "\n",
       "    .dataframe tbody tr th {\n",
       "        vertical-align: top;\n",
       "    }\n",
       "\n",
       "    .dataframe thead th {\n",
       "        text-align: right;\n",
       "    }\n",
       "</style>\n",
       "<table border=\"1\" class=\"dataframe\">\n",
       "  <thead>\n",
       "    <tr style=\"text-align: right;\">\n",
       "      <th></th>\n",
       "      <th>question</th>\n",
       "      <th>answer</th>\n",
       "    </tr>\n",
       "  </thead>\n",
       "  <tbody>\n",
       "    <tr>\n",
       "      <th>0</th>\n",
       "      <td>Natalia sold clips to 48 of her friends in Apr...</td>\n",
       "      <td>72</td>\n",
       "    </tr>\n",
       "    <tr>\n",
       "      <th>1</th>\n",
       "      <td>Weng earns $12 an hour for babysitting. Yester...</td>\n",
       "      <td>10</td>\n",
       "    </tr>\n",
       "    <tr>\n",
       "      <th>2</th>\n",
       "      <td>Betty is saving money for a new wallet which c...</td>\n",
       "      <td>5</td>\n",
       "    </tr>\n",
       "    <tr>\n",
       "      <th>3</th>\n",
       "      <td>Julie is reading a 120-page book. Yesterday, s...</td>\n",
       "      <td>42</td>\n",
       "    </tr>\n",
       "    <tr>\n",
       "      <th>4</th>\n",
       "      <td>James writes a 3-page letter to 2 different fr...</td>\n",
       "      <td>624</td>\n",
       "    </tr>\n",
       "  </tbody>\n",
       "</table>\n",
       "</div>"
      ],
      "text/plain": [
       "                                            question answer\n",
       "0  Natalia sold clips to 48 of her friends in Apr...     72\n",
       "1  Weng earns $12 an hour for babysitting. Yester...     10\n",
       "2  Betty is saving money for a new wallet which c...      5\n",
       "3  Julie is reading a 120-page book. Yesterday, s...     42\n",
       "4  James writes a 3-page letter to 2 different fr...    624"
      ]
     },
     "execution_count": 2,
     "metadata": {},
     "output_type": "execute_result"
    }
   ],
   "source": [
    "# Load example dataset (gsm8k)\n",
    "gsm8k = load_example_dataset(\"gsm8k\", n=100)\n",
    "gsm8k.head()"
   ]
  },
  {
   "cell_type": "code",
   "execution_count": 3,
   "metadata": {
    "tags": []
   },
   "outputs": [],
   "source": [
    "# Define prompts\n",
    "MATH_INSTRUCTION = (\n",
    "    \"When you solve this math problem only return the answer with no additional text.\\n\"\n",
    ")\n",
    "prompts = [MATH_INSTRUCTION + prompt for prompt in gsm8k.question]"
   ]
  },
  {
   "cell_type": "markdown",
   "metadata": {},
   "source": [
    "In this example, we use `AzureChatOpenAI` to instantiate our LLM, but any [LangChain Chat Model](https://js.langchain.com/docs/integrations/chat/) may be used. Be sure to **replace with your LLM of choice.**"
   ]
  },
  {
   "cell_type": "code",
   "execution_count": 4,
   "metadata": {
    "tags": []
   },
   "outputs": [],
   "source": [
    "# import sys\n",
    "# !{sys.executable} -m pip install python-dotenv\n",
    "# !{sys.executable} -m pip install langchain-openai\n",
    "\n",
    "# # User to populate .env file with API credentials\n",
    "# from dotenv import load_dotenv, find_dotenv\n",
    "# from langchain_openai import AzureChatOpenAI\n",
    "\n",
    "# load_dotenv(find_dotenv())\n",
    "# llm = AzureChatOpenAI(\n",
    "#     deployment_name=os.getenv(\"DEPLOYMENT_NAME\"),\n",
    "#     openai_api_key=os.getenv(\"API_KEY\"),\n",
    "#     azure_endpoint=os.getenv(\"API_BASE\"),\n",
    "#     openai_api_type=os.getenv(\"API_TYPE\"),\n",
    "#     openai_api_version=os.getenv(\"API_VERSION\"),\n",
    "#     temperature=1,  # User to set temperature\n",
    "# )\n",
    "\n",
    "from uqlm.utils.response_generator import LLM\n",
    "\n",
    "llm = LLM(model_name=\"openai:gpt-4o-mini\", logprobs=True)"
   ]
  },
  {
   "cell_type": "markdown",
   "metadata": {},
   "source": [
    "<a id='section2'></a>\n",
    "## 2. Generate responses and confidence scores"
   ]
  },
  {
   "cell_type": "markdown",
   "metadata": {},
   "source": [
    "### `WhiteBoxUQ()` - Generate LLM responses and compute token-probability-based confidence scores for each response.\n",
    "\n",
    "![Sample Image](https://raw.githubusercontent.com/cvs-health/uqlm/develop/assets/images/white_box_graphic.png)\n",
    "\n",
    "#### 📋 Class Attributes\n",
    "\n",
    "<table style=\"border-collapse: collapse; width: 100%; border: 1px solid rgba(127, 127, 127, 0.2);\">\n",
    "  <tr>\n",
    "    <th style=\"background-color: rgba(200, 200, 200, 0.2); width: 20%; padding: 8px; text-align: left; border: 1px solid rgba(127, 127, 127, 0.2);\">Parameter</th>\n",
    "    <th style=\"background-color: rgba(200, 200, 200, 0.2); width: 25%; padding: 8px; text-align: left; border: 1px solid rgba(127, 127, 127, 0.2);\">Type & Default</th>\n",
    "    <th style=\"background-color: rgba(200, 200, 200, 0.2); width: 55%; padding: 8px; text-align: left; border: 1px solid rgba(127, 127, 127, 0.2);\">Description</th>\n",
    "  </tr>\n",
    "  <tr>\n",
    "    <td style=\"font-weight: bold; padding: 8px; border: 1px solid rgba(127, 127, 127, 0.2);\">llm</td>\n",
    "    <td style=\"padding: 8px; border: 1px solid rgba(127, 127, 127, 0.2);\">BaseChatModel<br><code>default=None</code></td>\n",
    "    <td style=\"padding: 8px; border: 1px solid rgba(127, 127, 127, 0.2);\">A langchain llm `BaseChatModel`. User is responsible for specifying temperature and other relevant parameters to the constructor of their `llm` object.</td>\n",
    "  </tr>\n",
    "  <tr>\n",
    "    <td style=\"font-weight: bold; padding: 8px; border: 1px solid rgba(127, 127, 127, 0.2);\">scorers</td>\n",
    "    <td style=\"padding: 8px; border: 1px solid rgba(127, 127, 127, 0.2);\">List[str]<br><code>default=None</code></td>\n",
    "    <td style=\"padding: 8px; border: 1px solid rgba(127, 127, 127, 0.2);\">Specifies which white-box (token-probability-based) scorers to include. Must be subset of {\"normalized_probability\", \"min_probability\"}. If None, defaults to all.</td>\n",
    "  </tr>    \n",
    "  <tr>\n",
    "    <td style=\"font-weight: bold; padding: 8px; border: 1px solid rgba(127, 127, 127, 0.2);\">system_prompt</td>\n",
    "    <td style=\"padding: 8px; border: 1px solid rgba(127, 127, 127, 0.2);\">str or None<br><code>default=\"You are a helpful assistant.\"</code></td>\n",
    "    <td style=\"padding: 8px; border: 1px solid rgba(127, 127, 127, 0.2);\">Optional argument for user to provide custom system prompt for the LLM.</td>\n",
    "  </tr>\n",
    "  <tr>\n",
    "    <td style=\"font-weight: bold; padding: 8px; border: 1px solid rgba(127, 127, 127, 0.2);\">max_calls_per_min</td>\n",
    "    <td style=\"padding: 8px; border: 1px solid rgba(127, 127, 127, 0.2);\">int<br><code>default=None</code></td>\n",
    "    <td style=\"padding: 8px; border: 1px solid rgba(127, 127, 127, 0.2);\">Specifies how many API calls to make per minute to avoid rate limit errors. By default, no limit is specified.</td>\n",
    "  </tr>\n",
    "</table>\n",
    "\n",
    "#### 🔍 Parameter Groups\n",
    "\n",
    "<div style=\"display: flex; gap: 20px; margin-bottom: 20px\">\n",
    "  <div style=\"flex: 1; padding: 10px; background-color: rgba(0, 100, 200, 0.1); border-radius: 5px; border: 1px solid rgba(0, 100, 200, 0.2);\">\n",
    "    <p style=\"font-weight: bold\">🧠 Model-Specific</p>\n",
    "    <ul>\n",
    "      <li><code>llm</code></li>\n",
    "      <li><code>system_prompt</code></li>\n",
    "    </ul>\n",
    "  </div>\n",
    "  <div style=\"flex: 1; padding: 10px; background-color: rgba(0, 200, 0, 0.1); border-radius: 5px; border: 1px solid rgba(0, 200, 0, 0.2);\">\n",
    "    <p style=\"font-weight: bold\">📊 Confidence Scores</p>\n",
    "    <ul>\n",
    "      <li><code>scorers</code></li>\n",
    "    </ul>\n",
    "  </div>\n",
    "  <div style=\"flex: 1; padding: 10px; background-color: rgba(200, 0, 200, 0.1); border-radius: 5px; border: 1px solid rgba(200, 0, 200, 0.2);\">\n",
    "    <p style=\"font-weight: bold\">⚡ Performance</p>\n",
    "    <ul>\n",
    "      <li><code>max_calls_per_min</code></li>\n",
    "    </ul>\n",
    "  </div>\n",
    "</div>"
   ]
  },
  {
   "cell_type": "code",
   "execution_count": 5,
   "metadata": {
    "tags": []
   },
   "outputs": [],
   "source": [
    "wbuq = WhiteBoxUQ(llm=llm)"
   ]
  },
  {
   "cell_type": "markdown",
   "metadata": {},
   "source": [
    "### 🔄 Class Methods\n",
    "\n",
    "<table style=\"border-collapse: collapse; width: 100%; border: 1px solid rgba(127, 127, 127, 0.2);\">\n",
    "  <tr>\n",
    "    <th style=\"background-color: rgba(200, 200, 200, 0.2); width: 25%; padding: 8px; text-align: left; border: 1px solid rgba(127, 127, 127, 0.2);\">Method</th>\n",
    "    <th style=\"background-color: rgba(200, 200, 200, 0.2); width: 75%; padding: 8px; text-align: left; border: 1px solid rgba(127, 127, 127, 0.2);\">Description & Parameters</th>\n",
    "  </tr>\n",
    "  <tr>\n",
    "    <td style=\"font-weight: bold; vertical-align: top; padding: 8px; border: 1px solid rgba(127, 127, 127, 0.2);\">WhiteBoxUQ.generate_and_score</td>\n",
    "    <td style=\"padding: 8px; border: 1px solid rgba(127, 127, 127, 0.2);\">\n",
    "      <p>Generate LLM responses and compute confidence scores for the provided prompts.</p>\n",
    "      <p><strong>Parameters:</strong></p>\n",
    "      <ul>\n",
    "        <li><code>prompts</code> - (<strong>list of str</strong>) A list of input prompts for the model.</li>\n",
    "      </ul>\n",
    "      <p><strong>Returns:</strong> <code>UQResult</code> containing data (prompts, responses, log probabilities, and confidence scores) and metadata</p>\n",
    "      <div style=\"background-color: rgba(0, 200, 0, 0.1); padding: 8px; border-radius: 3px; margin-top: 10px; border: 1px solid rgba(0, 200, 0, 0.2); margin-right: 5px; box-sizing: border-box; width: 100%;\">\n",
    "        <strong>💡 Best For:</strong> Complete end-to-end uncertainty quantification when starting with prompts.\n",
    "      </div>\n",
    "    </td>\n",
    "  </tr>\n",
    "</table>"
   ]
  },
  {
   "cell_type": "code",
   "execution_count": 6,
   "metadata": {
    "tags": []
   },
   "outputs": [
    {
     "name": "stdout",
     "output_type": "stream",
     "text": [
      "Generating responses...\n"
     ]
    }
   ],
   "source": [
    "results = await wbuq.generate_and_score(prompts=prompts)"
   ]
  },
  {
   "cell_type": "code",
   "execution_count": 7,
   "metadata": {
    "tags": []
   },
   "outputs": [
    {
     "data": {
      "application/vnd.microsoft.datawrangler.viewer.v0+json": {
       "columns": [
        {
         "name": "index",
         "rawType": "int64",
         "type": "integer"
        },
        {
         "name": "prompt",
         "rawType": "object",
         "type": "string"
        },
        {
         "name": "response",
         "rawType": "object",
         "type": "string"
        },
        {
         "name": "logprob",
         "rawType": "object",
         "type": "unknown"
        },
        {
         "name": "normalized_probability",
         "rawType": "float64",
         "type": "float"
        },
        {
         "name": "min_probability",
         "rawType": "float64",
         "type": "float"
        }
       ],
       "ref": "f18e10fd-30c7-402f-ad53-11c4bffb2f82",
       "rows": [
        [
         "0",
         "When you solve this math problem only return the answer with no additional text.\nNatalia sold clips to 48 of her friends in April, and then she sold half as many clips in May. How many clips did Natalia sell altogether in April and May?",
         "72",
         "[ChatCompletionTokenLogprob(token='72', bytes=[55, 50], logprob=-0.0005722135538235307, top_logprobs=[])]",
         "0.99942795012913",
         "0.99942795012913"
        ],
        [
         "1",
         "When you solve this math problem only return the answer with no additional text.\nWeng earns $12 an hour for babysitting. Yesterday, she just did 50 minutes of babysitting. How much did she earn?",
         "$10.00",
         "[ChatCompletionTokenLogprob(token='$', bytes=[36], logprob=-0.0035411552526056767, top_logprobs=[]), ChatCompletionTokenLogprob(token='10', bytes=[49, 48], logprob=-4.320199877838604e-07, top_logprobs=[]), ChatCompletionTokenLogprob(token='.', bytes=[46], logprob=-0.31385868787765503, top_logprobs=[]), ChatCompletionTokenLogprob(token='00', bytes=[48, 48], logprob=-0.000122608442325145, top_logprobs=[])]",
         "0.923688190095689",
         "0.7306222666479606"
        ],
        [
         "2",
         "When you solve this math problem only return the answer with no additional text.\nBetty is saving money for a new wallet which costs $100. Betty has only half of the money she needs. Her parents decided to give her $15 for that purpose, and her grandparents twice as much as her parents. How much more money does Betty need to buy the wallet?",
         "Betty needs $35 more.",
         "[ChatCompletionTokenLogprob(token='Bet', bytes=[66, 101, 116], logprob=-0.3869127333164215, top_logprobs=[]), ChatCompletionTokenLogprob(token='ty', bytes=[116, 121], logprob=0.0, top_logprobs=[]), ChatCompletionTokenLogprob(token=' needs', bytes=[32, 110, 101, 101, 100, 115], logprob=-0.00011796683247666806, top_logprobs=[]), ChatCompletionTokenLogprob(token=' $', bytes=[32, 36], logprob=-0.0001645644661039114, top_logprobs=[]), ChatCompletionTokenLogprob(token='35', bytes=[51, 53], logprob=-0.23713286221027374, top_logprobs=[]), ChatCompletionTokenLogprob(token=' more', bytes=[32, 109, 111, 114, 101], logprob=-5.9153885558771435e-06, top_logprobs=[]), ChatCompletionTokenLogprob(token='.', bytes=[46], logprob=-1.9102779626846313, top_logprobs=[])]",
         "0.6962214950428659",
         "0.1480392314937194"
        ],
        [
         "3",
         "When you solve this math problem only return the answer with no additional text.\nJulie is reading a 120-page book. Yesterday, she was able to read 12 pages and today, she read twice as many pages as yesterday. If she wants to read half of the remaining pages tomorrow, how many pages should she read?",
         "Julie should read 54 pages tomorrow.",
         "[ChatCompletionTokenLogprob(token='Julie', bytes=[74, 117, 108, 105, 101], logprob=-1.6630842685699463, top_logprobs=[]), ChatCompletionTokenLogprob(token=' should', bytes=[32, 115, 104, 111, 117, 108, 100], logprob=-0.0010342379100620747, top_logprobs=[]), ChatCompletionTokenLogprob(token=' read', bytes=[32, 114, 101, 97, 100], logprob=-1.9361264946837764e-07, top_logprobs=[]), ChatCompletionTokenLogprob(token=' ', bytes=[32], logprob=0.0, top_logprobs=[]), ChatCompletionTokenLogprob(token='54', bytes=[53, 52], logprob=-0.16091479361057281, top_logprobs=[]), ChatCompletionTokenLogprob(token=' pages', bytes=[32, 112, 97, 103, 101, 115], logprob=0.0, top_logprobs=[]), ChatCompletionTokenLogprob(token=' tomorrow', bytes=[32, 116, 111, 109, 111, 114, 114, 111, 119], logprob=-0.1002078503370285, top_logprobs=[]), ChatCompletionTokenLogprob(token='.', bytes=[46], logprob=-1.2664456789934775e-06, top_logprobs=[])]",
         "0.7861125320052224",
         "0.18955344386095319"
        ],
        [
         "4",
         "When you solve this math problem only return the answer with no additional text.\nJames writes a 3-page letter to 2 different friends twice a week.  How many pages does he write a year?",
         "624 pages.",
         "[ChatCompletionTokenLogprob(token='624', bytes=[54, 50, 52], logprob=-0.05299827829003334, top_logprobs=[]), ChatCompletionTokenLogprob(token=' pages', bytes=[32, 112, 97, 103, 101, 115], logprob=-0.026342099532485008, top_logprobs=[]), ChatCompletionTokenLogprob(token='.', bytes=[46], logprob=-0.5231501460075378, top_logprobs=[])]",
         "0.8180513456467547",
         "0.5926506681830798"
        ]
       ],
       "shape": {
        "columns": 5,
        "rows": 5
       }
      },
      "text/html": [
       "<div>\n",
       "<style scoped>\n",
       "    .dataframe tbody tr th:only-of-type {\n",
       "        vertical-align: middle;\n",
       "    }\n",
       "\n",
       "    .dataframe tbody tr th {\n",
       "        vertical-align: top;\n",
       "    }\n",
       "\n",
       "    .dataframe thead th {\n",
       "        text-align: right;\n",
       "    }\n",
       "</style>\n",
       "<table border=\"1\" class=\"dataframe\">\n",
       "  <thead>\n",
       "    <tr style=\"text-align: right;\">\n",
       "      <th></th>\n",
       "      <th>prompt</th>\n",
       "      <th>response</th>\n",
       "      <th>logprob</th>\n",
       "      <th>normalized_probability</th>\n",
       "      <th>min_probability</th>\n",
       "    </tr>\n",
       "  </thead>\n",
       "  <tbody>\n",
       "    <tr>\n",
       "      <th>0</th>\n",
       "      <td>When you solve this math problem only return t...</td>\n",
       "      <td>72</td>\n",
       "      <td>[ChatCompletionTokenLogprob(token='72', bytes=...</td>\n",
       "      <td>0.999428</td>\n",
       "      <td>0.999428</td>\n",
       "    </tr>\n",
       "    <tr>\n",
       "      <th>1</th>\n",
       "      <td>When you solve this math problem only return t...</td>\n",
       "      <td>$10.00</td>\n",
       "      <td>[ChatCompletionTokenLogprob(token='$', bytes=[...</td>\n",
       "      <td>0.923688</td>\n",
       "      <td>0.730622</td>\n",
       "    </tr>\n",
       "    <tr>\n",
       "      <th>2</th>\n",
       "      <td>When you solve this math problem only return t...</td>\n",
       "      <td>Betty needs $35 more.</td>\n",
       "      <td>[ChatCompletionTokenLogprob(token='Bet', bytes...</td>\n",
       "      <td>0.696221</td>\n",
       "      <td>0.148039</td>\n",
       "    </tr>\n",
       "    <tr>\n",
       "      <th>3</th>\n",
       "      <td>When you solve this math problem only return t...</td>\n",
       "      <td>Julie should read 54 pages tomorrow.</td>\n",
       "      <td>[ChatCompletionTokenLogprob(token='Julie', byt...</td>\n",
       "      <td>0.786113</td>\n",
       "      <td>0.189553</td>\n",
       "    </tr>\n",
       "    <tr>\n",
       "      <th>4</th>\n",
       "      <td>When you solve this math problem only return t...</td>\n",
       "      <td>624 pages.</td>\n",
       "      <td>[ChatCompletionTokenLogprob(token='624', bytes...</td>\n",
       "      <td>0.818051</td>\n",
       "      <td>0.592651</td>\n",
       "    </tr>\n",
       "  </tbody>\n",
       "</table>\n",
       "</div>"
      ],
      "text/plain": [
       "                                              prompt  \\\n",
       "0  When you solve this math problem only return t...   \n",
       "1  When you solve this math problem only return t...   \n",
       "2  When you solve this math problem only return t...   \n",
       "3  When you solve this math problem only return t...   \n",
       "4  When you solve this math problem only return t...   \n",
       "\n",
       "                               response  \\\n",
       "0                                    72   \n",
       "1                                $10.00   \n",
       "2                 Betty needs $35 more.   \n",
       "3  Julie should read 54 pages tomorrow.   \n",
       "4                            624 pages.   \n",
       "\n",
       "                                             logprob  normalized_probability  \\\n",
       "0  [ChatCompletionTokenLogprob(token='72', bytes=...                0.999428   \n",
       "1  [ChatCompletionTokenLogprob(token='$', bytes=[...                0.923688   \n",
       "2  [ChatCompletionTokenLogprob(token='Bet', bytes...                0.696221   \n",
       "3  [ChatCompletionTokenLogprob(token='Julie', byt...                0.786113   \n",
       "4  [ChatCompletionTokenLogprob(token='624', bytes...                0.818051   \n",
       "\n",
       "   min_probability  \n",
       "0         0.999428  \n",
       "1         0.730622  \n",
       "2         0.148039  \n",
       "3         0.189553  \n",
       "4         0.592651  "
      ]
     },
     "execution_count": 7,
     "metadata": {},
     "output_type": "execute_result"
    }
   ],
   "source": [
    "result_df = results.to_df()\n",
    "result_df.head()"
   ]
  },
  {
   "cell_type": "markdown",
   "metadata": {},
   "source": [
    "<a id='section3'></a>\n",
    "## 3. Evaluate Hallucination Detection Performance"
   ]
  },
  {
   "cell_type": "markdown",
   "metadata": {},
   "source": [
    "To evaluate hallucination detection performance, we 'grade' the responses against an answer key. Note the `math_postprocessor` is specific to our use case (math questions). **If you are using your own prompts/questions, update the grading method accordingly**."
   ]
  },
  {
   "cell_type": "code",
   "execution_count": 8,
   "metadata": {
    "tags": []
   },
   "outputs": [
    {
     "data": {
      "application/vnd.microsoft.datawrangler.viewer.v0+json": {
       "columns": [
        {
         "name": "index",
         "rawType": "int64",
         "type": "integer"
        },
        {
         "name": "prompt",
         "rawType": "object",
         "type": "string"
        },
        {
         "name": "response",
         "rawType": "object",
         "type": "string"
        },
        {
         "name": "logprob",
         "rawType": "object",
         "type": "unknown"
        },
        {
         "name": "normalized_probability",
         "rawType": "float64",
         "type": "float"
        },
        {
         "name": "min_probability",
         "rawType": "float64",
         "type": "float"
        },
        {
         "name": "answer",
         "rawType": "object",
         "type": "string"
        },
        {
         "name": "response_correct",
         "rawType": "bool",
         "type": "boolean"
        }
       ],
       "ref": "c5a5c40a-30e6-42f5-958f-6a30456c6b60",
       "rows": [
        [
         "0",
         "When you solve this math problem only return the answer with no additional text.\nNatalia sold clips to 48 of her friends in April, and then she sold half as many clips in May. How many clips did Natalia sell altogether in April and May?",
         "72",
         "[ChatCompletionTokenLogprob(token='72', bytes=[55, 50], logprob=-0.0005722135538235307, top_logprobs=[])]",
         "0.99942795012913",
         "0.99942795012913",
         "72",
         "True"
        ],
        [
         "1",
         "When you solve this math problem only return the answer with no additional text.\nWeng earns $12 an hour for babysitting. Yesterday, she just did 50 minutes of babysitting. How much did she earn?",
         "$10.00",
         "[ChatCompletionTokenLogprob(token='$', bytes=[36], logprob=-0.0035411552526056767, top_logprobs=[]), ChatCompletionTokenLogprob(token='10', bytes=[49, 48], logprob=-4.320199877838604e-07, top_logprobs=[]), ChatCompletionTokenLogprob(token='.', bytes=[46], logprob=-0.31385868787765503, top_logprobs=[]), ChatCompletionTokenLogprob(token='00', bytes=[48, 48], logprob=-0.000122608442325145, top_logprobs=[])]",
         "0.923688190095689",
         "0.7306222666479606",
         "10",
         "True"
        ],
        [
         "2",
         "When you solve this math problem only return the answer with no additional text.\nBetty is saving money for a new wallet which costs $100. Betty has only half of the money she needs. Her parents decided to give her $15 for that purpose, and her grandparents twice as much as her parents. How much more money does Betty need to buy the wallet?",
         "Betty needs $35 more.",
         "[ChatCompletionTokenLogprob(token='Bet', bytes=[66, 101, 116], logprob=-0.3869127333164215, top_logprobs=[]), ChatCompletionTokenLogprob(token='ty', bytes=[116, 121], logprob=0.0, top_logprobs=[]), ChatCompletionTokenLogprob(token=' needs', bytes=[32, 110, 101, 101, 100, 115], logprob=-0.00011796683247666806, top_logprobs=[]), ChatCompletionTokenLogprob(token=' $', bytes=[32, 36], logprob=-0.0001645644661039114, top_logprobs=[]), ChatCompletionTokenLogprob(token='35', bytes=[51, 53], logprob=-0.23713286221027374, top_logprobs=[]), ChatCompletionTokenLogprob(token=' more', bytes=[32, 109, 111, 114, 101], logprob=-5.9153885558771435e-06, top_logprobs=[]), ChatCompletionTokenLogprob(token='.', bytes=[46], logprob=-1.9102779626846313, top_logprobs=[])]",
         "0.6962214950428659",
         "0.1480392314937194",
         "5",
         "False"
        ],
        [
         "3",
         "When you solve this math problem only return the answer with no additional text.\nJulie is reading a 120-page book. Yesterday, she was able to read 12 pages and today, she read twice as many pages as yesterday. If she wants to read half of the remaining pages tomorrow, how many pages should she read?",
         "Julie should read 54 pages tomorrow.",
         "[ChatCompletionTokenLogprob(token='Julie', bytes=[74, 117, 108, 105, 101], logprob=-1.6630842685699463, top_logprobs=[]), ChatCompletionTokenLogprob(token=' should', bytes=[32, 115, 104, 111, 117, 108, 100], logprob=-0.0010342379100620747, top_logprobs=[]), ChatCompletionTokenLogprob(token=' read', bytes=[32, 114, 101, 97, 100], logprob=-1.9361264946837764e-07, top_logprobs=[]), ChatCompletionTokenLogprob(token=' ', bytes=[32], logprob=0.0, top_logprobs=[]), ChatCompletionTokenLogprob(token='54', bytes=[53, 52], logprob=-0.16091479361057281, top_logprobs=[]), ChatCompletionTokenLogprob(token=' pages', bytes=[32, 112, 97, 103, 101, 115], logprob=0.0, top_logprobs=[]), ChatCompletionTokenLogprob(token=' tomorrow', bytes=[32, 116, 111, 109, 111, 114, 114, 111, 119], logprob=-0.1002078503370285, top_logprobs=[]), ChatCompletionTokenLogprob(token='.', bytes=[46], logprob=-1.2664456789934775e-06, top_logprobs=[])]",
         "0.7861125320052224",
         "0.18955344386095319",
         "42",
         "False"
        ],
        [
         "4",
         "When you solve this math problem only return the answer with no additional text.\nJames writes a 3-page letter to 2 different friends twice a week.  How many pages does he write a year?",
         "624 pages.",
         "[ChatCompletionTokenLogprob(token='624', bytes=[54, 50, 52], logprob=-0.05299827829003334, top_logprobs=[]), ChatCompletionTokenLogprob(token=' pages', bytes=[32, 112, 97, 103, 101, 115], logprob=-0.026342099532485008, top_logprobs=[]), ChatCompletionTokenLogprob(token='.', bytes=[46], logprob=-0.5231501460075378, top_logprobs=[])]",
         "0.8180513456467547",
         "0.5926506681830798",
         "624",
         "True"
        ]
       ],
       "shape": {
        "columns": 7,
        "rows": 5
       }
      },
      "text/html": [
       "<div>\n",
       "<style scoped>\n",
       "    .dataframe tbody tr th:only-of-type {\n",
       "        vertical-align: middle;\n",
       "    }\n",
       "\n",
       "    .dataframe tbody tr th {\n",
       "        vertical-align: top;\n",
       "    }\n",
       "\n",
       "    .dataframe thead th {\n",
       "        text-align: right;\n",
       "    }\n",
       "</style>\n",
       "<table border=\"1\" class=\"dataframe\">\n",
       "  <thead>\n",
       "    <tr style=\"text-align: right;\">\n",
       "      <th></th>\n",
       "      <th>prompt</th>\n",
       "      <th>response</th>\n",
       "      <th>logprob</th>\n",
       "      <th>normalized_probability</th>\n",
       "      <th>min_probability</th>\n",
       "      <th>answer</th>\n",
       "      <th>response_correct</th>\n",
       "    </tr>\n",
       "  </thead>\n",
       "  <tbody>\n",
       "    <tr>\n",
       "      <th>0</th>\n",
       "      <td>When you solve this math problem only return t...</td>\n",
       "      <td>72</td>\n",
       "      <td>[ChatCompletionTokenLogprob(token='72', bytes=...</td>\n",
       "      <td>0.999428</td>\n",
       "      <td>0.999428</td>\n",
       "      <td>72</td>\n",
       "      <td>True</td>\n",
       "    </tr>\n",
       "    <tr>\n",
       "      <th>1</th>\n",
       "      <td>When you solve this math problem only return t...</td>\n",
       "      <td>$10.00</td>\n",
       "      <td>[ChatCompletionTokenLogprob(token='$', bytes=[...</td>\n",
       "      <td>0.923688</td>\n",
       "      <td>0.730622</td>\n",
       "      <td>10</td>\n",
       "      <td>True</td>\n",
       "    </tr>\n",
       "    <tr>\n",
       "      <th>2</th>\n",
       "      <td>When you solve this math problem only return t...</td>\n",
       "      <td>Betty needs $35 more.</td>\n",
       "      <td>[ChatCompletionTokenLogprob(token='Bet', bytes...</td>\n",
       "      <td>0.696221</td>\n",
       "      <td>0.148039</td>\n",
       "      <td>5</td>\n",
       "      <td>False</td>\n",
       "    </tr>\n",
       "    <tr>\n",
       "      <th>3</th>\n",
       "      <td>When you solve this math problem only return t...</td>\n",
       "      <td>Julie should read 54 pages tomorrow.</td>\n",
       "      <td>[ChatCompletionTokenLogprob(token='Julie', byt...</td>\n",
       "      <td>0.786113</td>\n",
       "      <td>0.189553</td>\n",
       "      <td>42</td>\n",
       "      <td>False</td>\n",
       "    </tr>\n",
       "    <tr>\n",
       "      <th>4</th>\n",
       "      <td>When you solve this math problem only return t...</td>\n",
       "      <td>624 pages.</td>\n",
       "      <td>[ChatCompletionTokenLogprob(token='624', bytes...</td>\n",
       "      <td>0.818051</td>\n",
       "      <td>0.592651</td>\n",
       "      <td>624</td>\n",
       "      <td>True</td>\n",
       "    </tr>\n",
       "  </tbody>\n",
       "</table>\n",
       "</div>"
      ],
      "text/plain": [
       "                                              prompt  \\\n",
       "0  When you solve this math problem only return t...   \n",
       "1  When you solve this math problem only return t...   \n",
       "2  When you solve this math problem only return t...   \n",
       "3  When you solve this math problem only return t...   \n",
       "4  When you solve this math problem only return t...   \n",
       "\n",
       "                               response  \\\n",
       "0                                    72   \n",
       "1                                $10.00   \n",
       "2                 Betty needs $35 more.   \n",
       "3  Julie should read 54 pages tomorrow.   \n",
       "4                            624 pages.   \n",
       "\n",
       "                                             logprob  normalized_probability  \\\n",
       "0  [ChatCompletionTokenLogprob(token='72', bytes=...                0.999428   \n",
       "1  [ChatCompletionTokenLogprob(token='$', bytes=[...                0.923688   \n",
       "2  [ChatCompletionTokenLogprob(token='Bet', bytes...                0.696221   \n",
       "3  [ChatCompletionTokenLogprob(token='Julie', byt...                0.786113   \n",
       "4  [ChatCompletionTokenLogprob(token='624', bytes...                0.818051   \n",
       "\n",
       "   min_probability answer  response_correct  \n",
       "0         0.999428     72              True  \n",
       "1         0.730622     10              True  \n",
       "2         0.148039      5             False  \n",
       "3         0.189553     42             False  \n",
       "4         0.592651    624              True  "
      ]
     },
     "execution_count": 8,
     "metadata": {},
     "output_type": "execute_result"
    }
   ],
   "source": [
    "# Populate correct answers\n",
    "result_df[\"answer\"] = gsm8k.answer\n",
    "\n",
    "# Grade responses against correct answers\n",
    "result_df[\"response_correct\"] = [\n",
    "    math_postprocessor(r) == a for r, a in zip(result_df[\"response\"], gsm8k[\"answer\"])\n",
    "]\n",
    "result_df.head(5)"
   ]
  },
  {
   "cell_type": "code",
   "execution_count": 9,
   "metadata": {
    "tags": []
   },
   "outputs": [
    {
     "name": "stdout",
     "output_type": "stream",
     "text": [
      "Baseline LLM accuracy: 0.24\n"
     ]
    }
   ],
   "source": [
    "print(f\"\"\"Baseline LLM accuracy: {np.mean(result_df[\"response_correct\"])}\"\"\")"
   ]
  },
  {
   "cell_type": "markdown",
   "metadata": {},
   "source": [
    "#### 3.1 Filtered LLM Accuracy Evaluation"
   ]
  },
  {
   "cell_type": "markdown",
   "metadata": {},
   "source": [
    "Here, we explore ‘filtered accuracy’ as a metric for evaluating the performance of our confidence scores. Filtered accuracy measures the change in LLM performance when responses with confidence scores below a specified threshold are excluded. By adjusting the confidence score threshold, we can observe how the accuracy of the LLM improves as less certain responses are filtered out.\n",
    "\n",
    "We will plot the filtered accuracy across various confidence score thresholds to visualize the relationship between confidence and LLM accuracy. This analysis helps in understanding the trade-off between response coverage (measured by sample size below) and LLM accuracy, providing insights into the reliability of the LLM’s outputs. We conduct this analysis separately for each of our scorers. "
   ]
  },
  {
   "cell_type": "code",
   "execution_count": 10,
   "metadata": {
    "tags": []
   },
   "outputs": [
    {
     "data": {
      "image/png": "[encoded data removed]",
      "text/plain": [
       "<Figure size 640x480 with 1 Axes>"
      ]
     },
     "metadata": {},
     "output_type": "display_data"
    },
    {
     "data": {
      "image/png": "[encoded data removed]",
      "text/plain": [
       "<Figure size 640x480 with 1 Axes>"
      ]
     },
     "metadata": {},
     "output_type": "display_data"
    }
   ],
   "source": [
    "for scorer in [\"normalized_probability\", \"min_probability\"]:\n",
    "    plot_model_accuracies(\n",
    "        scores=result_df[scorer],\n",
    "        correct_indicators=result_df.response_correct,\n",
    "        title=f\"LLM Accuracy by {scorer} Score Threshold\",\n",
    "    )"
   ]
  },
  {
   "cell_type": "markdown",
   "metadata": {},
   "source": [
    "#### 3.2 Precision, Recall, F1-Score of Hallucination Detection"
   ]
  },
  {
   "cell_type": "markdown",
   "metadata": {},
   "source": [
    "Lastly, we compute the optimal threshold for binarizing confidence scores, using F1-score as the objective. Using this threshold, we compute precision, recall, and F1-score for black box scorer predictions of whether responses are correct."
   ]
  },
  {
   "cell_type": "code",
   "execution_count": 11,
   "metadata": {
    "tags": []
   },
   "outputs": [
    {
     "name": "stdout",
     "output_type": "stream",
     "text": [
      "normalized_probability score F1-optimal threshold: 0.85\n",
      " \n",
      "normalized_probability precision: 0.5333333333333333\n",
      "normalized_probability recall: 0.6666666666666666\n",
      "normalized_probability f1-score: 0.5925925925925926\n",
      " \n",
      " \n",
      "min_probability score F1-optimal threshold: 0.59\n",
      " \n",
      "min_probability precision: 0.5135135135135135\n",
      "min_probability recall: 0.7916666666666666\n",
      "min_probability f1-score: 0.6229508196721312\n",
      " \n",
      " \n"
     ]
    }
   ],
   "source": [
    "# instantiate UQLM tuner object for threshold selection\n",
    "t = Tuner()\n",
    "\n",
    "correct_indicators = (\n",
    "    result_df.response_correct\n",
    ") * 1  # Whether responses is actually correct\n",
    "for scorer in [\"normalized_probability\", \"min_probability\"]:\n",
    "    y_scores = result_df[scorer]  # confidence score\n",
    "\n",
    "    # Solve for threshold that maximizes F1-score\n",
    "    best_threshold = t.tune_threshold(\n",
    "        y_scores=y_scores,\n",
    "        correct_indicators=correct_indicators,\n",
    "        thresh_objective=\"fbeta_score\",\n",
    "    )\n",
    "    y_pred = [\n",
    "        (s > best_threshold) * 1 for s in y_scores\n",
    "    ]  # predicts whether response is correct based on confidence score\n",
    "    print(f\"{scorer} score F1-optimal threshold: {best_threshold}\")\n",
    "    print(\" \")\n",
    "\n",
    "    # evaluate precision, recall, and f1-score of predictions of correctness\n",
    "    print(\n",
    "        f\"{scorer} precision: {precision_score(y_true=correct_indicators, y_pred=y_pred)}\"\n",
    "    )\n",
    "    print(f\"{scorer} recall: {recall_score(y_true=correct_indicators, y_pred=y_pred)}\")\n",
    "    print(f\"{scorer} f1-score: {f1_score(y_true=correct_indicators, y_pred=y_pred)}\")\n",
    "    print(\" \")\n",
    "    print(\" \")"
   ]
  },
  {
   "cell_type": "markdown",
   "metadata": {},
   "source": [
    "<a id='section4'></a>\n",
    "## 4. Scorer Definitions\n",
    "White-box UQ scorers leverage token probabilities of the LLM's generated response to quantify uncertainty. All scorers have outputs ranging from 0 to 1, with higher values indicating higher confidence. We define two white-box UQ scorers below.\n",
    "\n",
    "### Length-Normalized Token Probability (`normalized_probability`)\n",
    "Let the tokenization LLM response $y_i$ be denoted as $\\{t_1,...,t_{L_i}\\}$, where $L_i$ denotes the number of tokens the response. Length-normalized token probability (LNTP) computes a length-normalized analog of joint token probability:\n",
    "\n",
    "\\begin{equation}\n",
    "    LNTP(y_i) = \\prod_{t \\in y_i}  p_t^{\\frac{1}{L_i}},\n",
    "\\end{equation}\n",
    "where $p_t$ denotes the token probability for token $t$. Note that this score is equivalent to the geometric mean of token probabilities for response $y_i$. For more on this scorer, refer to [Malinin & Gales, 2021](https://arxiv.org/pdf/2002.07650).\n",
    "\n",
    "\n",
    "### Minimum Token Probability (`min_probability`)\n",
    "Minimum token probability (MTP) uses the minimum among token probabilities for a given responses as a confidence score:\n",
    "\n",
    "\\begin{equation}\n",
    "    MTP(y_i) = \\min_{t \\in y_i}  p_t,\n",
    "\\end{equation}\n",
    "where $t$ and $p_t$ follow the same definitions as above. For more on this scorer, refer to [Manakul et al., 2023](https://arxiv.org/abs/2303.08896)."
   ]
  },
  {
   "cell_type": "markdown",
   "metadata": {},
   "source": [
    "© 2025 CVS Health and/or one of its affiliates. All rights reserved."
   ]
  }
 ],
 "metadata": {
  "environment": {
   "kernel": "uqlm",
   "name": "workbench-notebooks.m126",
   "type": "gcloud",
   "uri": "us-docker.pkg.dev/deeplearning-platform-release/gcr.io/workbench-notebooks:m126"
  },
  "kernelspec": {
   "display_name": "uqlm",
   "language": "python",
   "name": "python3"
  },
  "language_info": {
   "codemirror_mode": {
    "name": "ipython",
    "version": 3
   },
   "file_extension": ".py",
   "mimetype": "text/x-python",
   "name": "python",
   "nbconvert_exporter": "python",
   "pygments_lexer": "ipython3",
   "version": "3.12.9"
  }
 },
 "nbformat": 4,
 "nbformat_minor": 4
}
